{
 "cells": [
  {
   "cell_type": "markdown",
   "metadata": {},
   "source": [
    "# Comparação de limiares Stage1 (0.50 vs 0.55)"
   ]
  },
  {
   "cell_type": "code",
   "execution_count": null,
   "metadata": {},
   "outputs": [],
   "source": [
    "import json\n",
    "import numpy as np\n",
    "import matplotlib.pyplot as plt\n",
    "import seaborn as sns\n",
    "from pathlib import Path\n",
    "import sys\n",
    "sns.set_theme(style='whitegrid')\n",
    "root = Path('..').resolve()\n",
    "project_root = root.parent\n",
    "if str(project_root) not in sys.path:\n",
    "    sys.path.append(str(project_root))\n",
    "from pesquisa.v5_pipeline import STAGE3_GROUPS\n",
    "baseline = json.loads((root / 'logs/v5_pipeline_eval_val.json').read_text())\n",
    "thresh = json.loads((root / 'logs/v5_pipeline_eval_val_th055.json').read_text())\n",
    "baseline['final_accuracy'], thresh['final_accuracy']\n"
   ]
  },
  {
   "cell_type": "markdown",
   "metadata": {},
   "source": [
    "## Métricas Stage1"
   ]
  },
  {
   "cell_type": "code",
   "execution_count": null,
   "metadata": {},
   "outputs": [],
   "source": [
    "stage1_metrics = {\n",
    "    'baseline': baseline['stage1'],\n",
    "    'thresh_0.55': thresh['stage1']\n",
    "}\n",
    "stage1_metrics\n"
   ]
  },
  {
   "cell_type": "markdown",
   "metadata": {},
   "source": [
    "## Stage 2 — Matriz de Confusão"
   ]
  },
  {
   "cell_type": "code",
   "execution_count": null,
   "metadata": {},
   "outputs": [],
   "source": [
    "stage2_baseline = np.array(baseline['stage2']['confusion_matrix'])\n",
    "stage2_thresh = np.array(thresh['stage2']['confusion_matrix'])\n",
    "stage2_names = baseline['stage2']['class_names']\n",
    "fig, axes = plt.subplots(1, 2, figsize=(12, 4))\n",
    "sns.heatmap(stage2_baseline, annot=True, fmt='d', cmap='Blues', xticklabels=stage2_names, yticklabels=stage2_names, ax=axes[0])\n",
    "axes[0].set_title('Stage2 Confusão — threshold 0.50')\n",
    "sns.heatmap(stage2_thresh, annot=True, fmt='d', cmap='Blues', xticklabels=stage2_names, yticklabels=stage2_names, ax=axes[1])\n",
    "axes[1].set_title('Stage2 Confusão — threshold 0.55')\n",
    "for ax in axes:\n",
    "    ax.set_xlabel('Predito'); ax.set_ylabel('Real'); ax.set_xticklabels(stage2_names, rotation=45, ha='right'); ax.set_yticklabels(stage2_names, rotation=0)\n",
    "plt.tight_layout(); plt.show()\n"
   ]
  },
  {
   "cell_type": "markdown",
   "metadata": {},
   "source": [
    "## Stage 3 — Macro-F1"
   ]
  },
  {
   "cell_type": "code",
   "execution_count": null,
   "metadata": {},
   "outputs": [],
   "source": [
    "stage3_heads = ['RECT', 'AB', '1TO4']\n",
    "for head in stage3_heads:\n",
    "    base_conf = np.array(baseline['stage3']['confusion_matrices'][head])\n",
    "    thr_conf = np.array(thresh['stage3']['confusion_matrices'][head])\n",
    "    labels = STAGE3_GROUPS[head]\n",
    "    fig, axes = plt.subplots(1, 2, figsize=(8, 3))\n",
    "    sns.heatmap(base_conf, annot=True, fmt='d', cmap='Purples', xticklabels=labels, yticklabels=labels, ax=axes[0])\n",
    "    axes[0].set_title(f'{head} — confusão 0.50')\n",
    "    sns.heatmap(thr_conf, annot=True, fmt='d', cmap='Purples', xticklabels=labels, yticklabels=labels, ax=axes[1])\n",
    "    axes[1].set_title(f'{head} — confusão 0.55')\n",
    "    for ax in axes:\n",
    "        ax.set_xlabel('Predito'); ax.set_ylabel('Real'); ax.set_xticklabels(labels, rotation=45, ha='right'); ax.set_yticklabels(labels, rotation=0)\n",
    "    plt.tight_layout(); plt.show()\n"
   ]
  },
  {
   "cell_type": "markdown",
   "metadata": {},
   "source": [
    "## Pipeline Completo — Matrizes"
   ]
  },
  {
   "cell_type": "code",
   "execution_count": null,
   "metadata": {},
   "outputs": [],
   "source": [
    "final_baseline = np.array(baseline['confusion_matrix'])\n",
    "final_thresh = np.array(thresh['confusion_matrix'])\n",
    "class_names = baseline['class_names']\n",
    "fig, axes = plt.subplots(1, 2, figsize=(14, 5))\n",
    "sns.heatmap(final_baseline, annot=True, fmt='d', cmap='Greens', xticklabels=class_names, yticklabels=class_names, ax=axes[0])\n",
    "axes[0].set_title('Pipeline Confusão — threshold 0.50')\n",
    "sns.heatmap(final_thresh, annot=True, fmt='d', cmap='Greens', xticklabels=class_names, yticklabels=class_names, ax=axes[1])\n",
    "axes[1].set_title('Pipeline Confusão — threshold 0.55')\n",
    "for ax in axes:\n",
    "    ax.set_xlabel('Predito'); ax.set_ylabel('Real'); ax.set_xticklabels(class_names, rotation=45, ha='right'); ax.set_yticklabels(class_names, rotation=0)\n",
    "plt.tight_layout(); plt.show()\n"
   ]
  },
  {
   "cell_type": "markdown",
   "metadata": {},
   "source": [
    "## Observações\n",
    "- O threshold 0.55 aumenta a acurácia global (48.8% vs 44.7%), mas derruba o recall e o F1 do Stage1.\n",
    "- COM o recall menor, os especialistas recebem menos blocos para refinar (especialmente AB), reduzindo macro-F1.\n",
    "- CAR é necessário reforçar o especialista AB antes de adotar limiar mais agressivo."
   ]
  }
 ],
 "metadata": {
  "kernelspec": {
   "display_name": "Python 3",
   "language": "python",
   "name": "python3"
  },
  "language_info": {
   "codemirror_mode": {
    "name": "ipython",
    "version": 3
   },
   "file_extension": ".py",
   "mimetype": "text/x-python",
   "name": "python",
   "nbconvert_exporter": "python",
   "pygments_lexer": "ipython3",
   "version": "3.12"
  }
 },
 "nbformat": 4,
 "nbformat_minor": 5
}
